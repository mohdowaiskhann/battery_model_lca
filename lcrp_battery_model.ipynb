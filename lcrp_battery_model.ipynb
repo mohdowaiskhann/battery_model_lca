{
 "cells": [
  {
   "cell_type": "code",
   "id": "initial_id",
   "metadata": {
    "collapsed": true,
    "ExecuteTime": {
     "end_time": "2025-04-20T17:40:33.528347Z",
     "start_time": "2025-04-20T17:40:33.522841Z"
    }
   },
   "source": [
    "import matplotlib.pyplot as plt\n",
    "import numpy as np\n",
    "import pandas as pd\n"
   ],
   "outputs": [],
   "execution_count": 138
  },
  {
   "metadata": {
    "ExecuteTime": {
     "end_time": "2025-04-20T17:40:33.539613Z",
     "start_time": "2025-04-20T17:40:33.534615Z"
    }
   },
   "cell_type": "code",
   "source": [
    " #Constants\n",
    "discount_rate = 0.07\n",
    "years = np.arange(1, 11)\n",
    "base_demand = 1000  # in MW\n",
    "growth_rate = 0.04\n",
    "# Carbon price per ton\n",
    "carbon_price = 1000\n",
    "# Demand forecast over 10 years\n",
    "demand = base_demand * (1 + growth_rate) ** years"
   ],
   "id": "6535e1361027d1c6",
   "outputs": [],
   "execution_count": 139
  },
  {
   "metadata": {
    "ExecuteTime": {
     "end_time": "2025-04-20T17:40:33.560380Z",
     "start_time": "2025-04-20T17:40:33.555243Z"
    }
   },
   "cell_type": "code",
   "source": [
    "# Resources Data\n",
    "resources = {\n",
    "    'coal':     {'capex': 60000, 'om': 2000, 'fuel': 2500, 'emissions': 1.0, 'cf': 0.85},\n",
    "    'solar':    {'capex': 40000, 'om': 500,  'fuel': 0,    'emissions': 0.0, 'cf': 0.20},\n",
    "    'wind':     {'capex': 50000, 'om': 1000, 'fuel': 0,    'emissions': 0.0, 'cf': 0.30},\n",
    "    'battery':  {'capex': 20000, 'om': 500,  'fuel': 0,    'emissions': 0.0, 'cf': None}  # Assume battery added to enhance mix\n",
    "}\n"
   ],
   "id": "a266bedc3030fa8b",
   "outputs": [],
   "execution_count": 140
  },
  {
   "metadata": {
    "ExecuteTime": {
     "end_time": "2025-04-20T17:40:33.579812Z",
     "start_time": "2025-04-20T17:40:33.574292Z"
    }
   },
   "cell_type": "code",
   "source": [
    "def npv(costs, r=discount_rate):\n",
    "    return sum([cost / ((1 + r) ** t) for t, cost in enumerate(costs, start=1)])"
   ],
   "id": "d15323e887dc3d98",
   "outputs": [],
   "execution_count": 141
  },
  {
   "metadata": {
    "ExecuteTime": {
     "end_time": "2025-04-20T17:40:33.599533Z",
     "start_time": "2025-04-20T17:40:33.594022Z"
    }
   },
   "cell_type": "code",
   "source": [
    "# Define resource portfolios (as % of demand)\n",
    "portfolios = {\n",
    "    \"All Coal\": {'coal': 1.0},\n",
    "    \"50% Solar + 50% Coal\": {'solar': 0.5, 'coal': 0.5},\n",
    "    \"30% Wind + 30% Solar + 40% Coal\": {'wind': 0.3, 'solar': 0.3, 'coal': 0.4}\n",
    "}"
   ],
   "id": "f2690cb51a8583f4",
   "outputs": [],
   "execution_count": 142
  },
  {
   "metadata": {
    "ExecuteTime": {
     "end_time": "2025-04-20T17:40:33.625462Z",
     "start_time": "2025-04-20T17:40:33.614012Z"
    }
   },
   "cell_type": "code",
   "source": [
    "year_emissions_cost= 0.0\n",
    "emissions_costs = []\n",
    "for name,mix in portfolios.items():\n",
    "    annual_cost=[]\n",
    "    for year, demand_mw in zip(years,demand):\n",
    "        year_cost=0\n",
    "        for res,share in mix.items():\n",
    "            res_mw=share*demand_mw\n",
    "            res_data=resources[res]\n",
    "            gen_mwh=res_mw*res_data['cf']*8790 if res_data['cf'] else 0 \n",
    "            #Annulaized Cost\n",
    "            capex=res_data['capex']*res_mw\n",
    "            om=res_data['om']*res_mw\n",
    "            fuel=res_data['fuel']*res_mw\n",
    "            \n",
    "            emissions_cost=res_data['emissions']*gen_mwh*carbon_price\n",
    "            year_emissions_cost += emissions_cost\n",
    "            year_cost+=(capex/10)+om+fuel+emissions_cost \n",
    "            annual_cost.append(year_cost)\n",
    "            total_npv = npv(annual_cost)\n",
    "            print(f\"Portfolio: {name} | NPV (10 years): ₹{total_npv/1e7:.2f} Cr\")\n",
    "            emissions_costs.append(year_emissions_cost)\n",
    "            print(f\"Year: {year}, Emissions Cost: ₹ {year_emissions_cost:.2f}\")\n",
    "            \n",
    "           \n",
    "            \n",
    "            "
   ],
   "id": "5f74f005f3c17952",
   "outputs": [
    {
     "name": "stdout",
     "output_type": "stream",
     "text": [
      "Portfolio: All Coal | NPV (10 years): ₹727.22 Cr\n",
      "Year: 1, Emissions Cost: ₹ 7770360000.00\n",
      "Portfolio: All Coal | NPV (10 years): ₹1434.06 Cr\n",
      "Year: 2, Emissions Cost: ₹ 15851534400.00\n",
      "Portfolio: All Coal | NPV (10 years): ₹2121.07 Cr\n",
      "Year: 3, Emissions Cost: ₹ 24255955776.00\n",
      "Portfolio: All Coal | NPV (10 years): ₹2788.82 Cr\n",
      "Year: 4, Emissions Cost: ₹ 32996554007.04\n",
      "Portfolio: All Coal | NPV (10 years): ₹3437.85 Cr\n",
      "Year: 5, Emissions Cost: ₹ 42086776167.32\n",
      "Portfolio: All Coal | NPV (10 years): ₹4068.69 Cr\n",
      "Year: 6, Emissions Cost: ₹ 51540607214.01\n",
      "Portfolio: All Coal | NPV (10 years): ₹4681.84 Cr\n",
      "Year: 7, Emissions Cost: ₹ 61372591502.58\n",
      "Portfolio: All Coal | NPV (10 years): ₹5277.79 Cr\n",
      "Year: 8, Emissions Cost: ₹ 71597855162.68\n",
      "Portfolio: All Coal | NPV (10 years): ₹5857.04 Cr\n",
      "Year: 9, Emissions Cost: ₹ 82232129369.19\n",
      "Portfolio: All Coal | NPV (10 years): ₹6420.05 Cr\n",
      "Year: 10, Emissions Cost: ₹ 93291774543.95\n",
      "Portfolio: 50% Solar + 50% Coal | NPV (10 years): ₹0.22 Cr\n",
      "Year: 1, Emissions Cost: ₹ 93291774543.95\n",
      "Portfolio: 50% Solar + 50% Coal | NPV (10 years): ₹340.25 Cr\n",
      "Year: 1, Emissions Cost: ₹ 97176954543.95\n",
      "Portfolio: 50% Solar + 50% Coal | NPV (10 years): ₹340.45 Cr\n",
      "Year: 2, Emissions Cost: ₹ 97176954543.95\n",
      "Portfolio: 50% Solar + 50% Coal | NPV (10 years): ₹649.32 Cr\n",
      "Year: 2, Emissions Cost: ₹ 101217541743.95\n",
      "Portfolio: 50% Solar + 50% Coal | NPV (10 years): ₹649.50 Cr\n",
      "Year: 3, Emissions Cost: ₹ 101217541743.95\n",
      "Portfolio: 50% Solar + 50% Coal | NPV (10 years): ₹930.07 Cr\n",
      "Year: 3, Emissions Cost: ₹ 105419752431.95\n",
      "Portfolio: 50% Solar + 50% Coal | NPV (10 years): ₹930.24 Cr\n",
      "Year: 4, Emissions Cost: ₹ 105419752431.95\n",
      "Portfolio: 50% Solar + 50% Coal | NPV (10 years): ₹1185.10 Cr\n",
      "Year: 4, Emissions Cost: ₹ 109790051547.47\n",
      "Portfolio: 50% Solar + 50% Coal | NPV (10 years): ₹1185.25 Cr\n",
      "Year: 5, Emissions Cost: ₹ 109790051547.47\n",
      "Portfolio: 50% Solar + 50% Coal | NPV (10 years): ₹1416.77 Cr\n",
      "Year: 5, Emissions Cost: ₹ 114335162627.61\n",
      "Portfolio: 50% Solar + 50% Coal | NPV (10 years): ₹1416.90 Cr\n",
      "Year: 6, Emissions Cost: ₹ 114335162627.61\n",
      "Portfolio: 50% Solar + 50% Coal | NPV (10 years): ₹1627.20 Cr\n",
      "Year: 6, Emissions Cost: ₹ 119062078150.96\n",
      "Portfolio: 50% Solar + 50% Coal | NPV (10 years): ₹1627.33 Cr\n",
      "Year: 7, Emissions Cost: ₹ 119062078150.96\n",
      "Portfolio: 50% Solar + 50% Coal | NPV (10 years): ₹1818.36 Cr\n",
      "Year: 7, Emissions Cost: ₹ 123978070295.24\n",
      "Portfolio: 50% Solar + 50% Coal | NPV (10 years): ₹1818.47 Cr\n",
      "Year: 8, Emissions Cost: ₹ 123978070295.24\n",
      "Portfolio: 50% Solar + 50% Coal | NPV (10 years): ₹1992.00 Cr\n",
      "Year: 8, Emissions Cost: ₹ 129090702125.29\n",
      "Portfolio: 50% Solar + 50% Coal | NPV (10 years): ₹1992.10 Cr\n",
      "Year: 9, Emissions Cost: ₹ 129090702125.29\n",
      "Portfolio: 50% Solar + 50% Coal | NPV (10 years): ₹2149.73 Cr\n",
      "Year: 9, Emissions Cost: ₹ 134407839228.55\n",
      "Portfolio: 50% Solar + 50% Coal | NPV (10 years): ₹2149.83 Cr\n",
      "Year: 10, Emissions Cost: ₹ 134407839228.55\n",
      "Portfolio: 50% Solar + 50% Coal | NPV (10 years): ₹2293.01 Cr\n",
      "Year: 10, Emissions Cost: ₹ 139937661815.93\n",
      "Portfolio: 30% Wind + 30% Solar + 40% Coal | NPV (10 years): ₹0.17 Cr\n",
      "Year: 1, Emissions Cost: ₹ 139937661815.93\n",
      "Portfolio: 30% Wind + 30% Solar + 40% Coal | NPV (10 years): ₹0.46 Cr\n",
      "Year: 1, Emissions Cost: ₹ 139937661815.93\n",
      "Portfolio: 30% Wind + 30% Solar + 40% Coal | NPV (10 years): ₹254.80 Cr\n",
      "Year: 1, Emissions Cost: ₹ 143045805815.93\n",
      "Portfolio: 30% Wind + 30% Solar + 40% Coal | NPV (10 years): ₹254.95 Cr\n",
      "Year: 2, Emissions Cost: ₹ 143045805815.93\n",
      "Portfolio: 30% Wind + 30% Solar + 40% Coal | NPV (10 years): ₹255.19 Cr\n",
      "Year: 2, Emissions Cost: ₹ 143045805815.93\n",
      "Portfolio: 30% Wind + 30% Solar + 40% Coal | NPV (10 years): ₹471.12 Cr\n",
      "Year: 2, Emissions Cost: ₹ 146278275575.93\n",
      "Portfolio: 30% Wind + 30% Solar + 40% Coal | NPV (10 years): ₹471.24 Cr\n",
      "Year: 3, Emissions Cost: ₹ 146278275575.93\n",
      "Portfolio: 30% Wind + 30% Solar + 40% Coal | NPV (10 years): ₹471.45 Cr\n",
      "Year: 3, Emissions Cost: ₹ 146278275575.93\n",
      "Portfolio: 30% Wind + 30% Solar + 40% Coal | NPV (10 years): ₹654.76 Cr\n",
      "Year: 3, Emissions Cost: ₹ 149640044126.33\n",
      "Portfolio: 30% Wind + 30% Solar + 40% Coal | NPV (10 years): ₹654.86 Cr\n",
      "Year: 4, Emissions Cost: ₹ 149640044126.33\n",
      "Portfolio: 30% Wind + 30% Solar + 40% Coal | NPV (10 years): ₹655.04 Cr\n",
      "Year: 4, Emissions Cost: ₹ 149640044126.33\n",
      "Portfolio: 30% Wind + 30% Solar + 40% Coal | NPV (10 years): ₹810.66 Cr\n",
      "Year: 4, Emissions Cost: ₹ 153136283418.74\n",
      "Portfolio: 30% Wind + 30% Solar + 40% Coal | NPV (10 years): ₹810.75 Cr\n",
      "Year: 5, Emissions Cost: ₹ 153136283418.74\n",
      "Portfolio: 30% Wind + 30% Solar + 40% Coal | NPV (10 years): ₹810.90 Cr\n",
      "Year: 5, Emissions Cost: ₹ 153136283418.74\n",
      "Portfolio: 30% Wind + 30% Solar + 40% Coal | NPV (10 years): ₹943.01 Cr\n",
      "Year: 5, Emissions Cost: ₹ 156772372282.86\n",
      "Portfolio: 30% Wind + 30% Solar + 40% Coal | NPV (10 years): ₹943.09 Cr\n",
      "Year: 6, Emissions Cost: ₹ 156772372282.86\n",
      "Portfolio: 30% Wind + 30% Solar + 40% Coal | NPV (10 years): ₹943.21 Cr\n",
      "Year: 6, Emissions Cost: ₹ 156772372282.86\n",
      "Portfolio: 30% Wind + 30% Solar + 40% Coal | NPV (10 years): ₹1055.37 Cr\n",
      "Year: 6, Emissions Cost: ₹ 160553904701.53\n",
      "Portfolio: 30% Wind + 30% Solar + 40% Coal | NPV (10 years): ₹1055.44 Cr\n",
      "Year: 7, Emissions Cost: ₹ 160553904701.53\n",
      "Portfolio: 30% Wind + 30% Solar + 40% Coal | NPV (10 years): ₹1055.54 Cr\n",
      "Year: 7, Emissions Cost: ₹ 160553904701.53\n",
      "Portfolio: 30% Wind + 30% Solar + 40% Coal | NPV (10 years): ₹1150.76 Cr\n",
      "Year: 7, Emissions Cost: ₹ 164486698416.96\n",
      "Portfolio: 30% Wind + 30% Solar + 40% Coal | NPV (10 years): ₹1150.81 Cr\n",
      "Year: 8, Emissions Cost: ₹ 164486698416.96\n",
      "Portfolio: 30% Wind + 30% Solar + 40% Coal | NPV (10 years): ₹1150.91 Cr\n",
      "Year: 8, Emissions Cost: ₹ 164486698416.96\n",
      "Portfolio: 30% Wind + 30% Solar + 40% Coal | NPV (10 years): ₹1231.74 Cr\n",
      "Year: 8, Emissions Cost: ₹ 168576803881.00\n",
      "Portfolio: 30% Wind + 30% Solar + 40% Coal | NPV (10 years): ₹1231.79 Cr\n",
      "Year: 9, Emissions Cost: ₹ 168576803881.00\n",
      "Portfolio: 30% Wind + 30% Solar + 40% Coal | NPV (10 years): ₹1231.86 Cr\n",
      "Year: 9, Emissions Cost: ₹ 168576803881.00\n",
      "Portfolio: 30% Wind + 30% Solar + 40% Coal | NPV (10 years): ₹1300.49 Cr\n",
      "Year: 9, Emissions Cost: ₹ 172830513563.60\n",
      "Portfolio: 30% Wind + 30% Solar + 40% Coal | NPV (10 years): ₹1300.53 Cr\n",
      "Year: 10, Emissions Cost: ₹ 172830513563.60\n",
      "Portfolio: 30% Wind + 30% Solar + 40% Coal | NPV (10 years): ₹1300.59 Cr\n",
      "Year: 10, Emissions Cost: ₹ 172830513563.60\n",
      "Portfolio: 30% Wind + 30% Solar + 40% Coal | NPV (10 years): ₹1358.85 Cr\n",
      "Year: 10, Emissions Cost: ₹ 177254371633.51\n"
     ]
    }
   ],
   "execution_count": 143
  }
 ],
 "metadata": {
  "kernelspec": {
   "display_name": "Python 3",
   "language": "python",
   "name": "python3"
  },
  "language_info": {
   "codemirror_mode": {
    "name": "ipython",
    "version": 2
   },
   "file_extension": ".py",
   "mimetype": "text/x-python",
   "name": "python",
   "nbconvert_exporter": "python",
   "pygments_lexer": "ipython2",
   "version": "2.7.6"
  }
 },
 "nbformat": 4,
 "nbformat_minor": 5
}
